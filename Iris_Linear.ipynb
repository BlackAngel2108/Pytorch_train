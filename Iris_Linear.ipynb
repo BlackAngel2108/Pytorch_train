{
  "nbformat": 4,
  "nbformat_minor": 0,
  "metadata": {
    "colab": {
      "provenance": [],
      "authorship_tag": "ABX9TyPqtSOkIncHGnlFWC4ex42s",
      "include_colab_link": true
    },
    "kernelspec": {
      "name": "python3",
      "display_name": "Python 3"
    },
    "language_info": {
      "name": "python"
    }
  },
  "cells": [
    {
      "cell_type": "markdown",
      "metadata": {
        "id": "view-in-github",
        "colab_type": "text"
      },
      "source": [
        "<a href=\"https://colab.research.google.com/github/BlackAngel2108/Pytorch_train/blob/main/Iris_Linear.ipynb\" target=\"_parent\"><img src=\"https://colab.research.google.com/assets/colab-badge.svg\" alt=\"Open In Colab\"/></a>"
      ]
    },
    {
      "cell_type": "code",
      "execution_count": 1,
      "metadata": {
        "id": "DfMakDhld4VH"
      },
      "outputs": [],
      "source": [
        "from sklearn.datasets import load_iris\n",
        "import torch\n",
        "\n",
        "iris = load_iris()\n",
        "_global_var_data_x = torch.tensor(iris.data, dtype=torch.float32)\n",
        "_global_var_target = torch.tensor(iris.target, dtype=torch.float32)"
      ]
    },
    {
      "cell_type": "code",
      "source": [
        "_global_var_data_x.size()[0]"
      ],
      "metadata": {
        "colab": {
          "base_uri": "https://localhost:8080/"
        },
        "id": "m5WzAVfjd6zr",
        "outputId": "128d5c66-2f3a-416e-ef77-5042fd67db27"
      },
      "execution_count": 2,
      "outputs": [
        {
          "output_type": "execute_result",
          "data": {
            "text/plain": [
              "150"
            ]
          },
          "metadata": {},
          "execution_count": 2
        }
      ]
    },
    {
      "cell_type": "code",
      "source": [
        "import torch\n",
        "import torch.utils.data as data\n",
        "import torch.nn as nn\n",
        "import torch.optim as optim\n",
        "from tqdm import tqdm\n",
        "\n",
        "class IrisDataset(data.Dataset):\n",
        "    def __init__(self):\n",
        "        self.data = _global_var_data_x # тензор размерностью (150, 4), тип float32\n",
        "        self.target = _global_var_target # тензор размерностью (150, ), тип int64 (long)\n",
        "\n",
        "        self.length = _global_var_data_x.size()[0]\n",
        "        self.categories = ['setosa' 'versicolor' 'virginica'] # названия классов\n",
        "        self.features = ['sepal length (cm)', 'sepal width (cm)', 'petal length (cm)', 'petal width (cm)']\n",
        "\n",
        "    def __getitem__(self, item):\n",
        "        x = self.data[item]\n",
        "        y = self.target[item]\n",
        "        return x,y\n",
        "\n",
        "    def __len__(self):\n",
        "        return self.length\n",
        "\n",
        "\n",
        "class IrisClassModel(nn.Module):\n",
        "    def __init__(self, in_features=4, out_features=3):\n",
        "        super().__init__()\n",
        "        self.layer1 = nn.Linear(in_features, 16)\n",
        "        self.layer2 = nn.Linear(16, out_features)\n",
        "\n",
        "    def forward(self, x):\n",
        "        x = self.layer1(x).relu()\n",
        "        x = self.layer2(x)\n",
        "        return x\n",
        "\n",
        "torch.manual_seed(11)\n",
        "model = IrisClassModel(4,3)\n",
        "model.train()\n",
        "\n",
        "epochs = 10 # число эпох обучения\n",
        "batch_size = 8 # размер батча\n",
        "\n",
        "# создать объект класса IrisDataset\n",
        "d_train = IrisDataset()\n",
        "train_data = data.DataLoader(d_train,batch_size, shuffle = True ) # создать объект класса DataLoader с размером пакетов batch_size и перемешиванием образов выборки\n",
        "\n",
        "optimizer = optim.Adam(model.parameters(), lr = 0.01) # создать оптимизатор Adam для обучения модели с шагом обучения 0.01\n",
        "loss_func = nn.CrossEntropyLoss() # создать функцию потерь с помощью класса CrossEntropyLoss (используется при многоклассовой классификации)\n",
        "\n",
        "for _e in range(epochs): # итерации по эпохам\n",
        "    loss_mean = 0\n",
        "    lm_count = 0\n",
        "\n",
        "    train_tqdm = tqdm(train_data, leave = True)\n",
        "    for x_train, y_train in train_tqdm:\n",
        "        predict = model(x_train) # вычислить прогноз модели для данных x_train\n",
        "        loss = loss_func(predict, y_train.long() ) # вычислить значение функции потерь\n",
        "\n",
        "        optimizer.zero_grad()\n",
        "        loss.backward()\n",
        "        optimizer.step()\n",
        "\n",
        "        lm_count+=1\n",
        "        loss_mean = loss_mean + (loss.item() - loss_mean) / lm_count\n",
        "        train_tqdm.set_description(f\"Epoch [{_e+1}/{epochs}], loss_mean = {loss_mean:.3f}\")\n",
        "\n",
        "model.eval()\n",
        "correct_predictions = 0\n",
        "total_predictions = 0\n",
        "with torch.no_grad():\n",
        "    for x, y in d_train:\n",
        "        output = model(x.unsqueeze(0))\n",
        "        _, predicted = torch.max(output, 1)\n",
        "        total_predictions += 1\n",
        "        if predicted == y:\n",
        "            correct_predictions += 1\n",
        "\n",
        "Q = correct_predictions / total_predictions"
      ],
      "metadata": {
        "colab": {
          "base_uri": "https://localhost:8080/"
        },
        "id": "RT9Hpk1Sd7IB",
        "outputId": "23ee9471-de2a-4e5a-bdab-2b25aef8c745"
      },
      "execution_count": 3,
      "outputs": [
        {
          "output_type": "stream",
          "name": "stderr",
          "text": [
            "Epoch [1/10], loss_mean = 1.019: 100%|██████████| 19/19 [00:00<00:00, 121.03it/s]\n",
            "Epoch [2/10], loss_mean = 0.643: 100%|██████████| 19/19 [00:00<00:00, 181.21it/s]\n",
            "Epoch [3/10], loss_mean = 0.444: 100%|██████████| 19/19 [00:00<00:00, 200.17it/s]\n",
            "Epoch [4/10], loss_mean = 0.348: 100%|██████████| 19/19 [00:00<00:00, 276.16it/s]\n",
            "Epoch [5/10], loss_mean = 0.271: 100%|██████████| 19/19 [00:00<00:00, 142.17it/s]\n",
            "Epoch [6/10], loss_mean = 0.219: 100%|██████████| 19/19 [00:00<00:00, 219.78it/s]\n",
            "Epoch [7/10], loss_mean = 0.193: 100%|██████████| 19/19 [00:00<00:00, 164.62it/s]\n",
            "Epoch [8/10], loss_mean = 0.164: 100%|██████████| 19/19 [00:00<00:00, 123.68it/s]\n",
            "Epoch [9/10], loss_mean = 0.168: 100%|██████████| 19/19 [00:00<00:00, 131.78it/s]\n",
            "Epoch [10/10], loss_mean = 0.164: 100%|██████████| 19/19 [00:00<00:00, 228.74it/s]\n"
          ]
        }
      ]
    },
    {
      "cell_type": "code",
      "source": [
        "Q"
      ],
      "metadata": {
        "colab": {
          "base_uri": "https://localhost:8080/"
        },
        "id": "5xzuQ4bkePsf",
        "outputId": "02e5a477-4044-4033-e6b6-9c1be8a011dc"
      },
      "execution_count": 4,
      "outputs": [
        {
          "output_type": "execute_result",
          "data": {
            "text/plain": [
              "0.96"
            ]
          },
          "metadata": {},
          "execution_count": 4
        }
      ]
    },
    {
      "cell_type": "code",
      "source": [],
      "metadata": {
        "id": "WLnJTIEceQCO"
      },
      "execution_count": null,
      "outputs": []
    }
  ]
}